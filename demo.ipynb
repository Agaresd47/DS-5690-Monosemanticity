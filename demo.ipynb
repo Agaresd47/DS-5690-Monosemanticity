{
 "cells": [
  {
   "cell_type": "code",
   "execution_count": 1,
   "metadata": {},
   "outputs": [
    {
     "name": "stdout",
     "output_type": "stream",
     "text": [
      "Input: [-0.64223429  0.88752081 -0.32236932 -0.57512958]\n",
      "Feature Activations: [0.95404876 0.61400691 0.         0.         0.         0.\n",
      " 2.42046216 0.        ]\n",
      "Reconstructed Output with Residual: [ 0.91340046  7.49750137 -1.73897795 -1.04784908]\n",
      "Loss: 49.20095554100703\n",
      "\n",
      "Steered Feature Activations: [1.         0.5        0.         0.         0.         0.\n",
      " 2.42046216 0.        ]\n",
      "Reconstructed Output with Residual (Steered): [ 0.73410739  7.38566116 -1.58989494 -1.15259828]\n",
      "Loss (Steered): 46.89788779312734\n"
     ]
    }
   ],
   "source": [
    "import numpy as np\n",
    "\n",
    "# Initialize random weights and biases\n",
    "D = 4  # Dimension of input and residual stream\n",
    "F = 8  # Number of features\n",
    "\n",
    "W_enc = np.random.randn(F, D)  # Encoder weights\n",
    "b_enc = np.random.randn(F)     # Encoder biases\n",
    "W_dec = np.random.randn(D, F)  # Decoder weights\n",
    "b_dec = np.random.randn(D)     # Decoder biases\n",
    "\n",
    "# Step 1: Define a sparse feature extraction function\n",
    "def extract_features(x):\n",
    "    \"\"\" Extract sparse features from input x \"\"\"\n",
    "    # Encoder: calculate feature activations\n",
    "    f_x = np.maximum(0, np.dot(W_enc, x) + b_enc)  # ReLU activation\n",
    "    return f_x\n",
    "\n",
    "# Step 2: Define the reconstruction function with residual flow\n",
    "def reconstruct_with_residual(x, f_x):\n",
    "    \"\"\" Reconstructs x_hat using residual connection and feature activations \"\"\"\n",
    "    x_hat = b_dec + np.dot(W_dec, f_x)\n",
    "    x_residual = x + x_hat  # Residual addition\n",
    "    return x_residual\n",
    "\n",
    "# Step 3: Define the loss function with L2 and L1 penalties\n",
    "def calculate_loss(x, x_residual, f_x, lambda_param=0.1):\n",
    "    \"\"\" Calculate total loss with reconstruction and sparsity penalties \"\"\"\n",
    "    # L2 reconstruction loss\n",
    "    reconstruction_loss = np.sum((x - x_residual) ** 2)\n",
    "    \n",
    "    # L1 penalty scaled by decoder weight norms\n",
    "    feature_penalty = lambda_param * np.sum(f_x * np.linalg.norm(W_dec, axis=0))\n",
    "    \n",
    "    # Total loss\n",
    "    return reconstruction_loss + feature_penalty\n",
    "\n",
    "# Step 4: Forward pass with feature extraction, residual flow, and loss calculation\n",
    "x = np.random.randn(D)  # Random input\n",
    "\n",
    "# Extract features\n",
    "f_x = extract_features(x)\n",
    "\n",
    "# Reconstruct with residual\n",
    "x_residual = reconstruct_with_residual(x, f_x)\n",
    "\n",
    "# Calculate loss\n",
    "loss = calculate_loss(x, x_residual, f_x)\n",
    "\n",
    "print(\"Input:\", x)\n",
    "print(\"Feature Activations:\", f_x)\n",
    "print(\"Reconstructed Output with Residual:\", x_residual)\n",
    "print(\"Loss:\", loss)\n",
    "\n",
    "# Step 5: Feature Steering\n",
    "def steer_features(f_x, feature_indices, steer_values):\n",
    "    \"\"\" Adjust specific features to steer the output \"\"\"\n",
    "    f_x[feature_indices] = steer_values\n",
    "    return f_x\n",
    "\n",
    "# Example: Steer feature 0 and 1 to specific values\n",
    "f_x_steered = steer_features(f_x, feature_indices=[0, 1], steer_values=[1.0, 0.5])\n",
    "x_residual_steered = reconstruct_with_residual(x, f_x_steered)\n",
    "loss_steered = calculate_loss(x, x_residual_steered, f_x_steered)\n",
    "\n",
    "print(\"\\nSteered Feature Activations:\", f_x_steered)\n",
    "print(\"Reconstructed Output with Residual (Steered):\", x_residual_steered)\n",
    "print(\"Loss (Steered):\", loss_steered)\n"
   ]
  }
 ],
 "metadata": {
  "kernelspec": {
   "display_name": "deepl",
   "language": "python",
   "name": "python3"
  },
  "language_info": {
   "codemirror_mode": {
    "name": "ipython",
    "version": 3
   },
   "file_extension": ".py",
   "mimetype": "text/x-python",
   "name": "python",
   "nbconvert_exporter": "python",
   "pygments_lexer": "ipython3",
   "version": "3.8.19"
  }
 },
 "nbformat": 4,
 "nbformat_minor": 2
}
